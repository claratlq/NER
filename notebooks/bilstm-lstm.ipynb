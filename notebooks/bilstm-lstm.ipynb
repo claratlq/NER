{
  "cells": [
    {
      "cell_type": "markdown",
      "metadata": {},
      "source": [
        "Based on:\n",
        "https://towardsdatascience.com/named-entity-recognition-ner-using-keras-bidirectional-lstm-28cd3f301f54\n"
      ]
    },
    {
      "cell_type": "markdown",
      "metadata": {
        "id": "bF5NMHVx2BTS"
      },
      "source": [
        "# Install packages"
      ]
    },
    {
      "cell_type": "code",
      "execution_count": 1,
      "metadata": {
        "colab": {
          "base_uri": "https://localhost:8080/"
        },
        "id": "M4HtQ4IPGJtX",
        "outputId": "00f15e83-9dde-486d-9f8a-1e2e17aa45c6"
      },
      "outputs": [
        {
          "name": "stdout",
          "output_type": "stream",
          "text": [
            "Requirement already satisfied: plot_keras_history in /home/digitalhub/.pyenv/versions/3.8.12/lib/python3.8/site-packages (1.1.38)\n",
            "Requirement already satisfied: matplotlib in /home/digitalhub/.pyenv/versions/3.8.12/lib/python3.8/site-packages (from plot_keras_history) (3.6.2)\n",
            "Requirement already satisfied: pandas in /home/digitalhub/.local/lib/python3.8/site-packages (from plot_keras_history) (1.3.4)\n",
            "Requirement already satisfied: scipy in /home/digitalhub/.pyenv/versions/3.8.12/lib/python3.8/site-packages (from plot_keras_history) (1.4.1)\n",
            "Requirement already satisfied: support_developer>=1.0.2 in /home/digitalhub/.pyenv/versions/3.8.12/lib/python3.8/site-packages (from plot_keras_history) (1.0.5)\n",
            "Requirement already satisfied: sanitize_ml_labels>=1.0.48 in /home/digitalhub/.pyenv/versions/3.8.12/lib/python3.8/site-packages (from plot_keras_history) (1.0.50)\n",
            "Requirement already satisfied: compress_json in /home/digitalhub/.pyenv/versions/3.8.12/lib/python3.8/site-packages (from sanitize_ml_labels>=1.0.48->plot_keras_history) (1.0.8)\n",
            "Requirement already satisfied: pyparsing>=2.2.1 in /home/digitalhub/.local/lib/python3.8/site-packages (from matplotlib->plot_keras_history) (2.4.7)\n",
            "Requirement already satisfied: kiwisolver>=1.0.1 in /home/digitalhub/.pyenv/versions/3.8.12/lib/python3.8/site-packages (from matplotlib->plot_keras_history) (1.4.4)\n",
            "Requirement already satisfied: contourpy>=1.0.1 in /home/digitalhub/.pyenv/versions/3.8.12/lib/python3.8/site-packages (from matplotlib->plot_keras_history) (1.0.6)\n",
            "Requirement already satisfied: pillow>=6.2.0 in /home/digitalhub/.pyenv/versions/3.8.12/lib/python3.8/site-packages (from matplotlib->plot_keras_history) (9.3.0)\n",
            "Requirement already satisfied: python-dateutil>=2.7 in /home/digitalhub/.local/lib/python3.8/site-packages (from matplotlib->plot_keras_history) (2.8.2)\n",
            "Requirement already satisfied: fonttools>=4.22.0 in /home/digitalhub/.pyenv/versions/3.8.12/lib/python3.8/site-packages (from matplotlib->plot_keras_history) (4.38.0)\n",
            "Requirement already satisfied: cycler>=0.10 in /home/digitalhub/.pyenv/versions/3.8.12/lib/python3.8/site-packages (from matplotlib->plot_keras_history) (0.11.0)\n",
            "Requirement already satisfied: numpy>=1.19 in /home/digitalhub/.pyenv/versions/3.8.12/lib/python3.8/site-packages (from matplotlib->plot_keras_history) (1.23.5)\n",
            "Requirement already satisfied: packaging>=20.0 in /home/digitalhub/.local/lib/python3.8/site-packages (from matplotlib->plot_keras_history) (21.3)\n",
            "Requirement already satisfied: six>=1.5 in /home/digitalhub/.pyenv/versions/3.8.12/lib/python3.8/site-packages (from python-dateutil>=2.7->matplotlib->plot_keras_history) (1.16.0)\n",
            "Requirement already satisfied: pytz>=2017.3 in /home/digitalhub/.pyenv/versions/3.8.12/lib/python3.8/site-packages (from pandas->plot_keras_history) (2022.6)\n",
            "\u001b[33mWARNING: You are using pip version 21.1.1; however, version 22.3.1 is available.\n",
            "You should consider upgrading via the '/home/digitalhub/.pyenv/versions/3.8.12/bin/python3.8 -m pip install --upgrade pip' command.\u001b[0m\n",
            "Requirement already satisfied: keras in /home/digitalhub/.pyenv/versions/3.8.12/lib/python3.8/site-packages (2.3.1)\n",
            "Requirement already satisfied: six>=1.9.0 in /home/digitalhub/.pyenv/versions/3.8.12/lib/python3.8/site-packages (from keras) (1.16.0)\n",
            "Requirement already satisfied: scipy>=0.14 in /home/digitalhub/.pyenv/versions/3.8.12/lib/python3.8/site-packages (from keras) (1.4.1)\n",
            "Requirement already satisfied: pyyaml in /home/digitalhub/.pyenv/versions/3.8.12/lib/python3.8/site-packages (from keras) (6.0)\n",
            "Requirement already satisfied: keras-applications>=1.0.6 in /home/digitalhub/.pyenv/versions/3.8.12/lib/python3.8/site-packages (from keras) (1.0.8)\n",
            "Requirement already satisfied: keras-preprocessing>=1.0.5 in /home/digitalhub/.local/lib/python3.8/site-packages (from keras) (1.1.2)\n",
            "Requirement already satisfied: numpy>=1.9.1 in /home/digitalhub/.pyenv/versions/3.8.12/lib/python3.8/site-packages (from keras) (1.23.5)\n",
            "Requirement already satisfied: h5py in /home/digitalhub/.pyenv/versions/3.8.12/lib/python3.8/site-packages (from keras) (2.10.0)\n",
            "\u001b[33mWARNING: You are using pip version 21.1.1; however, version 22.3.1 is available.\n",
            "You should consider upgrading via the '/home/digitalhub/.pyenv/versions/3.8.12/bin/python3.8 -m pip install --upgrade pip' command.\u001b[0m\n",
            "\u001b[31mERROR: You must give at least one requirement to uninstall (see \"pip help uninstall\")\u001b[0m\n",
            "Requirement already satisfied: tensorflow==2.3.0 in /home/digitalhub/.pyenv/versions/3.8.12/lib/python3.8/site-packages (2.3.0)\n",
            "Requirement already satisfied: termcolor>=1.1.0 in /home/digitalhub/.local/lib/python3.8/site-packages (from tensorflow==2.3.0) (1.1.0)\n",
            "Requirement already satisfied: absl-py>=0.7.0 in /home/digitalhub/.local/lib/python3.8/site-packages (from tensorflow==2.3.0) (1.0.0)\n",
            "Requirement already satisfied: grpcio>=1.8.6 in /home/digitalhub/.local/lib/python3.8/site-packages (from tensorflow==2.3.0) (1.42.0)\n",
            "Requirement already satisfied: google-pasta>=0.1.8 in /home/digitalhub/.local/lib/python3.8/site-packages (from tensorflow==2.3.0) (0.2.0)\n",
            "Collecting numpy<1.19.0,>=1.16.0\n",
            "  Using cached numpy-1.18.5-cp38-cp38-manylinux1_x86_64.whl (20.6 MB)\n",
            "Requirement already satisfied: tensorboard<3,>=2.3.0 in /home/digitalhub/.pyenv/versions/3.8.12/lib/python3.8/site-packages (from tensorflow==2.3.0) (2.11.0)\n",
            "Requirement already satisfied: h5py<2.11.0,>=2.10.0 in /home/digitalhub/.pyenv/versions/3.8.12/lib/python3.8/site-packages (from tensorflow==2.3.0) (2.10.0)\n",
            "Requirement already satisfied: astunparse==1.6.3 in /home/digitalhub/.local/lib/python3.8/site-packages (from tensorflow==2.3.0) (1.6.3)\n",
            "Requirement already satisfied: six>=1.12.0 in /home/digitalhub/.pyenv/versions/3.8.12/lib/python3.8/site-packages (from tensorflow==2.3.0) (1.16.0)\n",
            "Requirement already satisfied: wrapt>=1.11.1 in /home/digitalhub/.local/lib/python3.8/site-packages (from tensorflow==2.3.0) (1.13.3)\n",
            "Requirement already satisfied: tensorflow-estimator<2.4.0,>=2.3.0 in /home/digitalhub/.pyenv/versions/3.8.12/lib/python3.8/site-packages (from tensorflow==2.3.0) (2.3.0)\n",
            "Requirement already satisfied: opt-einsum>=2.3.2 in /home/digitalhub/.local/lib/python3.8/site-packages (from tensorflow==2.3.0) (3.3.0)\n",
            "Requirement already satisfied: scipy==1.4.1 in /home/digitalhub/.pyenv/versions/3.8.12/lib/python3.8/site-packages (from tensorflow==2.3.0) (1.4.1)\n",
            "Requirement already satisfied: protobuf>=3.9.2 in /home/digitalhub/.local/lib/python3.8/site-packages (from tensorflow==2.3.0) (3.19.1)\n",
            "Requirement already satisfied: wheel>=0.26 in /home/digitalhub/.pyenv/versions/3.8.12/lib/python3.8/site-packages (from tensorflow==2.3.0) (0.38.4)\n",
            "Requirement already satisfied: keras-preprocessing<1.2,>=1.1.1 in /home/digitalhub/.local/lib/python3.8/site-packages (from tensorflow==2.3.0) (1.1.2)\n",
            "Requirement already satisfied: gast==0.3.3 in /home/digitalhub/.pyenv/versions/3.8.12/lib/python3.8/site-packages (from tensorflow==2.3.0) (0.3.3)\n",
            "Requirement already satisfied: requests<3,>=2.21.0 in /home/digitalhub/.pyenv/versions/3.8.12/lib/python3.8/site-packages (from tensorboard<3,>=2.3.0->tensorflow==2.3.0) (2.28.1)\n",
            "Requirement already satisfied: werkzeug>=1.0.1 in /home/digitalhub/.local/lib/python3.8/site-packages (from tensorboard<3,>=2.3.0->tensorflow==2.3.0) (2.0.2)\n",
            "Requirement already satisfied: setuptools>=41.0.0 in /home/digitalhub/.pyenv/versions/3.8.12/lib/python3.8/site-packages (from tensorboard<3,>=2.3.0->tensorflow==2.3.0) (56.0.0)\n",
            "Requirement already satisfied: markdown>=2.6.8 in /home/digitalhub/.local/lib/python3.8/site-packages (from tensorboard<3,>=2.3.0->tensorflow==2.3.0) (3.3.6)\n",
            "Requirement already satisfied: tensorboard-data-server<0.7.0,>=0.6.0 in /home/digitalhub/.local/lib/python3.8/site-packages (from tensorboard<3,>=2.3.0->tensorflow==2.3.0) (0.6.1)\n",
            "Requirement already satisfied: tensorboard-plugin-wit>=1.6.0 in /home/digitalhub/.local/lib/python3.8/site-packages (from tensorboard<3,>=2.3.0->tensorflow==2.3.0) (1.8.0)\n",
            "Requirement already satisfied: google-auth-oauthlib<0.5,>=0.4.1 in /home/digitalhub/.local/lib/python3.8/site-packages (from tensorboard<3,>=2.3.0->tensorflow==2.3.0) (0.4.6)\n",
            "Requirement already satisfied: google-auth<3,>=1.6.3 in /home/digitalhub/.pyenv/versions/3.8.12/lib/python3.8/site-packages (from tensorboard<3,>=2.3.0->tensorflow==2.3.0) (1.35.0)\n",
            "Requirement already satisfied: pyasn1-modules>=0.2.1 in /home/digitalhub/.local/lib/python3.8/site-packages (from google-auth<3,>=1.6.3->tensorboard<3,>=2.3.0->tensorflow==2.3.0) (0.2.8)\n",
            "Requirement already satisfied: rsa<5,>=3.1.4 in /home/digitalhub/.local/lib/python3.8/site-packages (from google-auth<3,>=1.6.3->tensorboard<3,>=2.3.0->tensorflow==2.3.0) (4.7.2)\n",
            "Requirement already satisfied: cachetools<5.0,>=2.0.0 in /home/digitalhub/.local/lib/python3.8/site-packages (from google-auth<3,>=1.6.3->tensorboard<3,>=2.3.0->tensorflow==2.3.0) (4.2.4)\n",
            "Requirement already satisfied: requests-oauthlib>=0.7.0 in /home/digitalhub/.local/lib/python3.8/site-packages (from google-auth-oauthlib<0.5,>=0.4.1->tensorboard<3,>=2.3.0->tensorflow==2.3.0) (1.3.0)\n",
            "Requirement already satisfied: importlib-metadata>=4.4 in /home/digitalhub/.pyenv/versions/3.8.12/lib/python3.8/site-packages (from markdown>=2.6.8->tensorboard<3,>=2.3.0->tensorflow==2.3.0) (5.1.0)\n",
            "Requirement already satisfied: zipp>=0.5 in /home/digitalhub/.local/lib/python3.8/site-packages (from importlib-metadata>=4.4->markdown>=2.6.8->tensorboard<3,>=2.3.0->tensorflow==2.3.0) (3.6.0)\n",
            "Requirement already satisfied: pyasn1<0.5.0,>=0.4.6 in /home/digitalhub/.local/lib/python3.8/site-packages (from pyasn1-modules>=0.2.1->google-auth<3,>=1.6.3->tensorboard<3,>=2.3.0->tensorflow==2.3.0) (0.4.8)\n",
            "Requirement already satisfied: certifi>=2017.4.17 in /home/digitalhub/.pyenv/versions/3.8.12/lib/python3.8/site-packages (from requests<3,>=2.21.0->tensorboard<3,>=2.3.0->tensorflow==2.3.0) (2022.9.24)\n",
            "Requirement already satisfied: charset-normalizer<3,>=2 in /home/digitalhub/.local/lib/python3.8/site-packages (from requests<3,>=2.21.0->tensorboard<3,>=2.3.0->tensorflow==2.3.0) (2.0.7)\n",
            "Requirement already satisfied: idna<4,>=2.5 in /home/digitalhub/.pyenv/versions/3.8.12/lib/python3.8/site-packages (from requests<3,>=2.21.0->tensorboard<3,>=2.3.0->tensorflow==2.3.0) (3.4)\n",
            "Requirement already satisfied: urllib3<1.27,>=1.21.1 in /home/digitalhub/.pyenv/versions/3.8.12/lib/python3.8/site-packages (from requests<3,>=2.21.0->tensorboard<3,>=2.3.0->tensorflow==2.3.0) (1.26.12)\n",
            "Requirement already satisfied: oauthlib>=3.0.0 in /home/digitalhub/.pyenv/versions/3.8.12/lib/python3.8/site-packages (from requests-oauthlib>=0.7.0->google-auth-oauthlib<0.5,>=0.4.1->tensorboard<3,>=2.3.0->tensorflow==2.3.0) (3.2.2)\n",
            "Installing collected packages: numpy\n",
            "  Attempting uninstall: numpy\n",
            "    Found existing installation: numpy 1.23.5\n",
            "    Uninstalling numpy-1.23.5:\n",
            "      Successfully uninstalled numpy-1.23.5\n",
            "\u001b[31mERROR: pip's dependency resolver does not currently take into account all the packages that are installed. This behaviour is the source of the following dependency conflicts.\n",
            "tensorflow-gpu 2.7.0 requires keras<2.8,>=2.7.0rc0, but you have keras 2.3.1 which is incompatible.\n",
            "tensorflow-gpu 2.7.0 requires tensorflow-estimator<2.8,~=2.7.0rc0, but you have tensorflow-estimator 2.3.0 which is incompatible.\n",
            "matplotlib 3.6.2 requires numpy>=1.19, but you have numpy 1.18.5 which is incompatible.\u001b[0m\n",
            "Successfully installed numpy-1.18.5\n",
            "\u001b[33mWARNING: You are using pip version 21.1.1; however, version 22.3.1 is available.\n",
            "You should consider upgrading via the '/home/digitalhub/.pyenv/versions/3.8.12/bin/python3.8 -m pip install --upgrade pip' command.\u001b[0m\n",
            "Collecting git+https://www.github.com/keras-team/keras-contrib.git\n",
            "  Cloning https://www.github.com/keras-team/keras-contrib.git to /tmp/pip-req-build-mskwwxfg\n",
            "  Running command git clone -q https://www.github.com/keras-team/keras-contrib.git /tmp/pip-req-build-mskwwxfg\n",
            "Requirement already satisfied: keras in /home/digitalhub/.pyenv/versions/3.8.12/lib/python3.8/site-packages (from keras-contrib==2.0.8) (2.3.1)\n",
            "Requirement already satisfied: keras-applications>=1.0.6 in /home/digitalhub/.pyenv/versions/3.8.12/lib/python3.8/site-packages (from keras->keras-contrib==2.0.8) (1.0.8)\n",
            "Requirement already satisfied: keras-preprocessing>=1.0.5 in /home/digitalhub/.local/lib/python3.8/site-packages (from keras->keras-contrib==2.0.8) (1.1.2)\n",
            "Requirement already satisfied: pyyaml in /home/digitalhub/.pyenv/versions/3.8.12/lib/python3.8/site-packages (from keras->keras-contrib==2.0.8) (6.0)\n",
            "Requirement already satisfied: six>=1.9.0 in /home/digitalhub/.pyenv/versions/3.8.12/lib/python3.8/site-packages (from keras->keras-contrib==2.0.8) (1.16.0)\n",
            "Requirement already satisfied: scipy>=0.14 in /home/digitalhub/.pyenv/versions/3.8.12/lib/python3.8/site-packages (from keras->keras-contrib==2.0.8) (1.4.1)\n",
            "Requirement already satisfied: numpy>=1.9.1 in /home/digitalhub/.pyenv/versions/3.8.12/lib/python3.8/site-packages (from keras->keras-contrib==2.0.8) (1.18.5)\n",
            "Requirement already satisfied: h5py in /home/digitalhub/.pyenv/versions/3.8.12/lib/python3.8/site-packages (from keras->keras-contrib==2.0.8) (2.10.0)\n",
            "\u001b[33mWARNING: You are using pip version 21.1.1; however, version 22.3.1 is available.\n",
            "You should consider upgrading via the '/home/digitalhub/.pyenv/versions/3.8.12/bin/python3.8 -m pip install --upgrade pip' command.\u001b[0m\n",
            "Requirement already satisfied: pydot in /home/digitalhub/.pyenv/versions/3.8.12/lib/python3.8/site-packages (1.4.2)\n",
            "Requirement already satisfied: pyparsing>=2.1.4 in /home/digitalhub/.local/lib/python3.8/site-packages (from pydot) (2.4.7)\n",
            "\u001b[33mWARNING: You are using pip version 21.1.1; however, version 22.3.1 is available.\n",
            "You should consider upgrading via the '/home/digitalhub/.pyenv/versions/3.8.12/bin/python3.8 -m pip install --upgrade pip' command.\u001b[0m\n",
            "Requirement already satisfied: numpy in /home/digitalhub/.pyenv/versions/3.8.12/lib/python3.8/site-packages (1.18.5)\n",
            "Collecting numpy\n",
            "  Using cached numpy-1.23.5-cp38-cp38-manylinux_2_17_x86_64.manylinux2014_x86_64.whl (17.1 MB)\n",
            "Installing collected packages: numpy\n",
            "  Attempting uninstall: numpy\n",
            "    Found existing installation: numpy 1.18.5\n",
            "    Uninstalling numpy-1.18.5:\n",
            "      Successfully uninstalled numpy-1.18.5\n",
            "\u001b[31mERROR: pip's dependency resolver does not currently take into account all the packages that are installed. This behaviour is the source of the following dependency conflicts.\n",
            "tensorflow-gpu 2.7.0 requires keras<2.8,>=2.7.0rc0, but you have keras 2.3.1 which is incompatible.\n",
            "tensorflow-gpu 2.7.0 requires tensorflow-estimator<2.8,~=2.7.0rc0, but you have tensorflow-estimator 2.3.0 which is incompatible.\n",
            "tensorflow 2.3.0 requires numpy<1.19.0,>=1.16.0, but you have numpy 1.23.5 which is incompatible.\u001b[0m\n",
            "Successfully installed numpy-1.23.5\n",
            "\u001b[33mWARNING: You are using pip version 21.1.1; however, version 22.3.1 is available.\n",
            "You should consider upgrading via the '/home/digitalhub/.pyenv/versions/3.8.12/bin/python3.8 -m pip install --upgrade pip' command.\u001b[0m\n"
          ]
        }
      ],
      "source": [
        "!pip install plot_keras_history\n",
        "!pip install keras\n",
        "!pip uninstall  -y\n",
        "!pip install tensorflow==2.3.0\n",
        "!pip install git+https://www.github.com/keras-team/keras-contrib.git\n",
        "!pip install pydot\n",
        "!pip install numpy --upgrade"
      ]
    },
    {
      "cell_type": "markdown",
      "metadata": {
        "id": "uuRfitpw2NAW"
      },
      "source": [
        "# Import packages"
      ]
    },
    {
      "cell_type": "code",
      "execution_count": 2,
      "metadata": {
        "id": "M3XPDgA9FP0b"
      },
      "outputs": [
        {
          "name": "stderr",
          "output_type": "stream",
          "text": [
            "2022-12-07 09:54:15.241511: W tensorflow/stream_executor/platform/default/dso_loader.cc:64] Could not load dynamic library 'libcudart.so.11.0'; dlerror: libcudart.so.11.0: cannot open shared object file: No such file or directory\n",
            "2022-12-07 09:54:15.241525: I tensorflow/stream_executor/cuda/cudart_stub.cc:29] Ignore above cudart dlerror if you do not have a GPU set up on your machine.\n",
            "Using TensorFlow backend.\n"
          ]
        }
      ],
      "source": [
        "import re\n",
        "import pickle\n",
        "import string\n",
        "import operator\n",
        "import numpy as np\n",
        "import pandas as pd\n",
        "import tensorflow as tf\n",
        "import matplotlib.pyplot as plt\n",
        "\n",
        "from numpy.random import seed\n",
        "from plot_keras_history import plot_history\n",
        "\n",
        "from sklearn.model_selection import train_test_split\n",
        "from sklearn.metrics import multilabel_confusion_matrix\n",
        "from sklearn.model_selection import train_test_split\n",
        "\n",
        "from tensorflow.keras import layers\n",
        "from tensorflow.keras import optimizers\n",
        "\n",
        "from tensorflow.keras.models import Model\n",
        "from tensorflow.keras.utils import plot_model\n",
        "from tensorflow.keras.utils import to_categorical\n",
        "from tensorflow.keras import Sequential, Model, Input\n",
        "from tensorflow.keras.preprocessing.sequence import pad_sequences\n",
        "from tensorflow.keras.layers import Input, LSTM, Embedding, Dense, TimeDistributed, Dropout, Bidirectional\n",
        "\n",
        "from keras_contrib import losses\n",
        "from keras_contrib import metrics\n",
        "from keras_contrib.layers import CRF\n",
        "from keras_contrib.utils import save_load_utils\n"
      ]
    },
    {
      "cell_type": "markdown",
      "metadata": {
        "id": "1d-3Qy8N2Sk_"
      },
      "source": [
        "# GMB data\n",
        "\n"
      ]
    },
    {
      "cell_type": "markdown",
      "metadata": {
        "id": "orqxebPu3cBh"
      },
      "source": [
        "## Import and preprocess general data"
      ]
    },
    {
      "cell_type": "code",
      "execution_count": 3,
      "metadata": {
        "colab": {
          "base_uri": "https://localhost:8080/",
          "height": 424
        },
        "id": "wYk1xx-yolmf",
        "outputId": "9ee5b10b-007d-4fd2-e386-d8699c50cba4"
      },
      "outputs": [
        {
          "data": {
            "text/html": [
              "<div>\n",
              "<style scoped>\n",
              "    .dataframe tbody tr th:only-of-type {\n",
              "        vertical-align: middle;\n",
              "    }\n",
              "\n",
              "    .dataframe tbody tr th {\n",
              "        vertical-align: top;\n",
              "    }\n",
              "\n",
              "    .dataframe thead th {\n",
              "        text-align: right;\n",
              "    }\n",
              "</style>\n",
              "<table border=\"1\" class=\"dataframe\">\n",
              "  <thead>\n",
              "    <tr style=\"text-align: right;\">\n",
              "      <th></th>\n",
              "      <th>Sentence #</th>\n",
              "      <th>Word</th>\n",
              "      <th>Tag</th>\n",
              "    </tr>\n",
              "  </thead>\n",
              "  <tbody>\n",
              "    <tr>\n",
              "      <th>0</th>\n",
              "      <td>Sentence: 1</td>\n",
              "      <td>Thousands</td>\n",
              "      <td>O</td>\n",
              "    </tr>\n",
              "    <tr>\n",
              "      <th>1</th>\n",
              "      <td>NaN</td>\n",
              "      <td>of</td>\n",
              "      <td>O</td>\n",
              "    </tr>\n",
              "    <tr>\n",
              "      <th>2</th>\n",
              "      <td>NaN</td>\n",
              "      <td>demonstrators</td>\n",
              "      <td>O</td>\n",
              "    </tr>\n",
              "    <tr>\n",
              "      <th>3</th>\n",
              "      <td>NaN</td>\n",
              "      <td>have</td>\n",
              "      <td>O</td>\n",
              "    </tr>\n",
              "    <tr>\n",
              "      <th>4</th>\n",
              "      <td>NaN</td>\n",
              "      <td>marched</td>\n",
              "      <td>O</td>\n",
              "    </tr>\n",
              "    <tr>\n",
              "      <th>...</th>\n",
              "      <td>...</td>\n",
              "      <td>...</td>\n",
              "      <td>...</td>\n",
              "    </tr>\n",
              "    <tr>\n",
              "      <th>1048570</th>\n",
              "      <td>NaN</td>\n",
              "      <td>they</td>\n",
              "      <td>O</td>\n",
              "    </tr>\n",
              "    <tr>\n",
              "      <th>1048571</th>\n",
              "      <td>NaN</td>\n",
              "      <td>responded</td>\n",
              "      <td>O</td>\n",
              "    </tr>\n",
              "    <tr>\n",
              "      <th>1048572</th>\n",
              "      <td>NaN</td>\n",
              "      <td>to</td>\n",
              "      <td>O</td>\n",
              "    </tr>\n",
              "    <tr>\n",
              "      <th>1048573</th>\n",
              "      <td>NaN</td>\n",
              "      <td>the</td>\n",
              "      <td>O</td>\n",
              "    </tr>\n",
              "    <tr>\n",
              "      <th>1048574</th>\n",
              "      <td>NaN</td>\n",
              "      <td>attack</td>\n",
              "      <td>O</td>\n",
              "    </tr>\n",
              "  </tbody>\n",
              "</table>\n",
              "<p>1048575 rows × 3 columns</p>\n",
              "</div>"
            ],
            "text/plain": [
              "          Sentence #           Word Tag\n",
              "0        Sentence: 1      Thousands   O\n",
              "1                NaN             of   O\n",
              "2                NaN  demonstrators   O\n",
              "3                NaN           have   O\n",
              "4                NaN        marched   O\n",
              "...              ...            ...  ..\n",
              "1048570          NaN           they   O\n",
              "1048571          NaN      responded   O\n",
              "1048572          NaN             to   O\n",
              "1048573          NaN            the   O\n",
              "1048574          NaN         attack   O\n",
              "\n",
              "[1048575 rows x 3 columns]"
            ]
          },
          "execution_count": 3,
          "metadata": {},
          "output_type": "execute_result"
        }
      ],
      "source": [
        "#Download Groningen Meaning Bank (GMB) data: https://gmb.let.rug.nl/about.php for baseline\n",
        "train_path = 'ner_data/ner_dataset.csv'\n",
        "bl_data = pd.read_csv(train_path, encoding=\"iso-8859-1\", header=0)\n",
        "bl_data.drop(columns=['POS'])"
      ]
    },
    {
      "cell_type": "code",
      "execution_count": 4,
      "metadata": {},
      "outputs": [
        {
          "name": "stdout",
          "output_type": "stream",
          "text": [
            "Total number of sentences in the dataset: 47,959\n",
            "Total words in the dataset: 1,048,575\n"
          ]
        }
      ],
      "source": [
        "print(\"Total number of sentences in the dataset: {:,}\".format(bl_data[\"Sentence #\"].nunique()))\n",
        "print(\"Total words in the dataset: {:,}\".format(bl_data.shape[0]))"
      ]
    },
    {
      "cell_type": "code",
      "execution_count": 5,
      "metadata": {
        "id": "3YKTUnjj0l26"
      },
      "outputs": [],
      "source": [
        "bl_data.ffill(inplace=True) #forward fill sentence column\n",
        "bl_data['Sentence #'] = bl_data['Sentence #'].apply(lambda i: i[9:]) #reformat sentence column\n",
        "bl_data[\"Sentence #\"] = bl_data[\"Sentence #\"].astype(\"int32\") #change sentence column type\n",
        "bl_data.rename(columns = {'Sentence #':'Sentence'}, inplace = True)"
      ]
    },
    {
      "cell_type": "code",
      "execution_count": 6,
      "metadata": {
        "id": "xZUPau29yeyM"
      },
      "outputs": [],
      "source": [
        "#Function to get dictionary of all unique items ('Word' and 'Tag')\n",
        "#Returns 1 dictionary of index:item pairs and 1 dictionary of item:index pairs\n",
        "def get_dict_map(data, column):\n",
        "    item2idx = {}\n",
        "    idx2item = {}\n",
        "    \n",
        "    corpus = list(set(data[column].to_list())) #get list of unique words/tags\n",
        "\n",
        "    idx2item = {index:item for index, item in enumerate(corpus)}\n",
        "    item2idx = {item:index for index, item in enumerate(corpus)}\n",
        "    \n",
        "    return idx2item, item2idx"
      ]
    },
    {
      "cell_type": "code",
      "execution_count": 7,
      "metadata": {
        "id": "MT5euMKdrlXU"
      },
      "outputs": [],
      "source": [
        "def group_data(data, word2idx, tag2idx):\n",
        "\n",
        "  #Create index columns for 'Word' and 'Tag'\n",
        "  data['Word_index'] = data['Word'].map(word2idx)\n",
        "  data['Tag_index'] = data['Tag'].map(tag2idx)\n",
        "\n",
        "  #For each sentence, create a sequence of words, pos, tags, word indexes, tag indexes\n",
        "  data_group = data.groupby(['Sentence'],as_index=False)['Word', 'Tag', 'Word_index', 'Tag_index'].agg(lambda x: list(x))\n",
        "  return data_group"
      ]
    },
    {
      "cell_type": "code",
      "execution_count": 8,
      "metadata": {
        "id": "RbNB4egRs69m"
      },
      "outputs": [],
      "source": [
        "  #Get index to word, word to index, index to tag, tag to index mapping\n",
        "  idx2word, word2idx = get_dict_map(bl_data, 'Word')\n",
        "  idx2tag, tag2idx = get_dict_map(bl_data, 'Tag')"
      ]
    },
    {
      "cell_type": "code",
      "execution_count": 9,
      "metadata": {
        "colab": {
          "base_uri": "https://localhost:8080/"
        },
        "id": "BOy7ygiXsRFB",
        "outputId": "a792c8e4-d1dc-4354-9635-e1e4576eed3f"
      },
      "outputs": [
        {
          "name": "stderr",
          "output_type": "stream",
          "text": [
            "/tmp/ipykernel_6612/3682637150.py:8: FutureWarning: Indexing with multiple keys (implicitly converted to a tuple of keys) will be deprecated, use a list instead.\n",
            "  data_group = data.groupby(['Sentence'],as_index=False)['Word', 'Tag', 'Word_index', 'Tag_index'].agg(lambda x: list(x))\n"
          ]
        }
      ],
      "source": [
        "bl_data_group = group_data(bl_data, word2idx, tag2idx)"
      ]
    },
    {
      "cell_type": "markdown",
      "metadata": {
        "id": "h9iO01qSCIRU"
      },
      "source": [
        "## Prepare train and test data\n"
      ]
    },
    {
      "cell_type": "code",
      "execution_count": 10,
      "metadata": {
        "id": "5U1Up69KCPzd"
      },
      "outputs": [],
      "source": [
        "def get_pad_train_test_val(data_group, data):\n",
        "\n",
        "    #total num of unique words and tags\n",
        "    n_token = len(list(set(data['Word'].to_list())))\n",
        "    n_tag = len(list(set(data['Tag'].to_list())))\n",
        "\n",
        "    #Pad Words (X var)    \n",
        "    words = data_group['Word_index'].tolist()\n",
        "    maxlen = max([len(word) for word in words])\n",
        "    pad_tokens = pad_sequences(words, maxlen=maxlen, dtype='int32', padding='post', value= n_token - 1)\n",
        "\n",
        "    #Pad Tags (y var) and convert it into one hot encoding\n",
        "    tags = data_group['Tag_index'].tolist()\n",
        "    pad_tags = pad_sequences(tags, maxlen=maxlen, dtype='int32', padding='post', value= tag2idx[\"O\"])\n",
        "    n_tags = len(tag2idx)\n",
        "    pad_tags = [to_categorical(i, num_classes=n_tags) for i in pad_tags] #one hot encoding\n",
        "    \n",
        "    #Split train, test and validation set\n",
        "    tokens_, test_tokens, tags_, test_tags = train_test_split(pad_tokens, pad_tags, test_size=0.1, train_size=0.9, random_state=2020)\n",
        "    train_tokens, val_tokens, train_tags, val_tags = train_test_split(tokens_,tags_,test_size = 0.25,train_size =0.75, random_state=2020)\n",
        "\n",
        "    print(\n",
        "        'train_words length:', len(train_tokens),\n",
        "        '\\ntrain_tags length:', len(train_tags),\n",
        "        '\\nval_words:', len(val_tokens),\n",
        "        '\\nval_tags:', len(val_tags),\n",
        "        '\\ntest_words length:', len(test_tokens),\n",
        "        '\\ntest_tags:', len(test_tags),\n",
        "\n",
        "    )\n",
        "    \n",
        "    return train_tokens, val_tokens, test_tokens, train_tags, val_tags, test_tags"
      ]
    },
    {
      "cell_type": "code",
      "execution_count": 11,
      "metadata": {
        "colab": {
          "base_uri": "https://localhost:8080/"
        },
        "id": "9G9ufmxhsP1d",
        "outputId": "b058521a-e613-412d-b96c-bb94c5c7bb2a"
      },
      "outputs": [
        {
          "name": "stdout",
          "output_type": "stream",
          "text": [
            "train_words length: 32372 \n",
            "train_tags length: 32372 \n",
            "val_words: 10791 \n",
            "val_tags: 10791 \n",
            "test_words length: 4796 \n",
            "test_tags: 4796\n"
          ]
        }
      ],
      "source": [
        "train_tokens, val_tokens, test_tokens, train_tags, val_tags, test_tags = get_pad_train_test_val(bl_data_group, bl_data)"
      ]
    },
    {
      "cell_type": "markdown",
      "metadata": {
        "id": "ImDhTIKdJuIZ"
      },
      "source": [
        "## Model"
      ]
    },
    {
      "cell_type": "code",
      "execution_count": 12,
      "metadata": {
        "id": "26Fhaoi_Etwv"
      },
      "outputs": [],
      "source": [
        "seed(1)\n",
        "tf.random.set_seed(2)"
      ]
    },
    {
      "cell_type": "code",
      "execution_count": 13,
      "metadata": {
        "colab": {
          "base_uri": "https://localhost:8080/"
        },
        "id": "28ojiBSYK85f",
        "outputId": "ba178440-aa24-4efb-cd9c-9517b3287deb"
      },
      "outputs": [
        {
          "name": "stdout",
          "output_type": "stream",
          "text": [
            "input_dim:  35179 \n",
            "output_dim:  64 \n",
            "input_length:  104 \n",
            "n_tags:  17\n"
          ]
        }
      ],
      "source": [
        "input_dim = len(list(set(bl_data['Word'].to_list())))+1\n",
        "output_dim = 64\n",
        "input_length = max([len(s) for s in bl_data_group['Word_index'].tolist()])\n",
        "n_tags = len(tag2idx)\n",
        "print('input_dim: ', input_dim, '\\noutput_dim: ', output_dim, '\\ninput_length: ', input_length, '\\nn_tags: ', n_tags)"
      ]
    },
    {
      "cell_type": "code",
      "execution_count": 14,
      "metadata": {
        "id": "-0z_PN5zMEgf"
      },
      "outputs": [],
      "source": [
        "#Function to initialise and structure NN architecture\n",
        "def get_bilstm_lstm_model():\n",
        "    model = Sequential()\n",
        "\n",
        "    # Add Embedding layer\n",
        "    model.add(Embedding(input_dim=input_dim, output_dim=output_dim, input_length=input_length))\n",
        "\n",
        "    # Add bidirectional LSTM\n",
        "    model.add(Bidirectional(LSTM(units=output_dim, return_sequences=True, dropout=0.2, recurrent_dropout=0.2), merge_mode = 'concat'))\n",
        "\n",
        "    # Add LSTM\n",
        "    model.add(LSTM(units=output_dim, return_sequences=True, dropout=0.5, recurrent_dropout=0.5))\n",
        "\n",
        "    # Add timeDistributed Layer\n",
        "    model.add(TimeDistributed(Dense(n_tags, activation=\"relu\")))\n",
        "\n",
        "    #Optimiser \n",
        "    # adam = k.optimizers.Adam(lr=0.0005, beta_1=0.9, beta_2=0.999)\n",
        "\n",
        "    # Compile model\n",
        "    model.compile(loss='categorical_crossentropy', optimizer='adam', metrics=['accuracy'])\n",
        "    model.summary()\n",
        "    \n",
        "    return model"
      ]
    },
    {
      "cell_type": "code",
      "execution_count": 15,
      "metadata": {
        "id": "qpLDPUIXNTj8"
      },
      "outputs": [],
      "source": [
        "#Function to train model, returns list of losses for each epoch\n",
        "def train_model(X, y, model):\n",
        "    loss = list()\n",
        "    for i in range(25): #run 25 epochs in total\n",
        "        # fit model for one epoch on this sequence\n",
        "        hist = model.fit(X, y, batch_size=1000, verbose=1, epochs=1, validation_split=0.2)\n",
        "        loss.append(hist.history['loss'][0])\n",
        "    return loss"
      ]
    },
    {
      "cell_type": "code",
      "execution_count": 16,
      "metadata": {
        "colab": {
          "base_uri": "https://localhost:8080/",
          "height": 694
        },
        "id": "y3FYLORKN878",
        "outputId": "81469123-6494-4beb-a637-2ce9542ceb3d"
      },
      "outputs": [
        {
          "name": "stderr",
          "output_type": "stream",
          "text": [
            "2022-12-07 09:54:20.659163: E tensorflow/stream_executor/cuda/cuda_driver.cc:271] failed call to cuInit: CUDA_ERROR_NO_DEVICE: no CUDA-capable device is detected\n",
            "2022-12-07 09:54:20.659249: I tensorflow/stream_executor/cuda/cuda_diagnostics.cc:156] kernel driver does not appear to be running on this host (dh-minion2): /proc/driver/nvidia/version does not exist\n",
            "2022-12-07 09:54:20.660610: I tensorflow/core/platform/cpu_feature_guard.cc:151] This TensorFlow binary is optimized with oneAPI Deep Neural Network Library (oneDNN) to use the following CPU instructions in performance-critical operations:  AVX2 AVX512F FMA\n",
            "To enable them in other operations, rebuild TensorFlow with the appropriate compiler flags.\n"
          ]
        },
        {
          "name": "stdout",
          "output_type": "stream",
          "text": [
            "Model: \"sequential\"\n",
            "_________________________________________________________________\n",
            "Layer (type)                 Output Shape              Param #   \n",
            "=================================================================\n",
            "embedding (Embedding)        (None, 104, 64)           2251456   \n",
            "_________________________________________________________________\n",
            "bidirectional (Bidirectional (None, 104, 128)          66048     \n",
            "_________________________________________________________________\n",
            "lstm_1 (LSTM)                (None, 104, 64)           49408     \n",
            "_________________________________________________________________\n",
            "time_distributed (TimeDistri (None, 104, 17)           1105      \n",
            "=================================================================\n",
            "Total params: 2,368,017\n",
            "Trainable params: 2,368,017\n",
            "Non-trainable params: 0\n",
            "_________________________________________________________________\n",
            "('You must install pydot (`pip install pydot`) and install graphviz (see instructions at https://graphviz.gitlab.io/download/) ', 'for plot_model/model_to_dot to work.')\n",
            "26/26 [==============================] - 25s 835ms/step - loss: 0.6132 - accuracy: 0.9301 - val_loss: 0.3495 - val_accuracy: 0.9673\n",
            "26/26 [==============================] - 21s 816ms/step - loss: 0.3315 - accuracy: 0.9678 - val_loss: 0.3126 - val_accuracy: 0.9673\n",
            "26/26 [==============================] - 22s 864ms/step - loss: 0.3092 - accuracy: 0.9678 - val_loss: 0.2944 - val_accuracy: 0.9673\n",
            "26/26 [==============================] - 23s 884ms/step - loss: 0.2844 - accuracy: 0.9678 - val_loss: 0.2510 - val_accuracy: 0.9673\n",
            "26/26 [==============================] - 23s 878ms/step - loss: 0.2501 - accuracy: 0.9678 - val_loss: 0.2462 - val_accuracy: 0.9673\n",
            "26/26 [==============================] - 22s 847ms/step - loss: 0.2415 - accuracy: 0.9679 - val_loss: 0.2376 - val_accuracy: 0.9673\n",
            "26/26 [==============================] - 23s 873ms/step - loss: 0.2335 - accuracy: 0.9679 - val_loss: 0.2316 - val_accuracy: 0.9673\n",
            "26/26 [==============================] - 22s 834ms/step - loss: 0.2263 - accuracy: 0.9680 - val_loss: 0.2166 - val_accuracy: 0.9676\n",
            "26/26 [==============================] - 22s 839ms/step - loss: 0.1871 - accuracy: 0.9682 - val_loss: 0.1839 - val_accuracy: 0.9675\n",
            "26/26 [==============================] - 21s 824ms/step - loss: 0.1692 - accuracy: 0.9683 - val_loss: 0.1767 - val_accuracy: 0.9678\n",
            "26/26 [==============================] - 21s 818ms/step - loss: 0.1637 - accuracy: 0.9684 - val_loss: 0.1709 - val_accuracy: 0.9679\n",
            "26/26 [==============================] - 21s 809ms/step - loss: 0.1439 - accuracy: 0.9685 - val_loss: 0.1455 - val_accuracy: 0.9678\n",
            "26/26 [==============================] - 21s 812ms/step - loss: 0.1275 - accuracy: 0.9686 - val_loss: 0.1378 - val_accuracy: 0.9681\n",
            "26/26 [==============================] - 21s 811ms/step - loss: 0.1164 - accuracy: 0.9689 - val_loss: 0.1306 - val_accuracy: 0.9684\n",
            "26/26 [==============================] - 23s 871ms/step - loss: 0.1115 - accuracy: 0.9691 - val_loss: 0.1279 - val_accuracy: 0.9686\n",
            "26/26 [==============================] - 21s 817ms/step - loss: 0.1069 - accuracy: 0.9695 - val_loss: 0.1269 - val_accuracy: 0.9690\n",
            "26/26 [==============================] - 21s 818ms/step - loss: 0.1175 - accuracy: 0.9701 - val_loss: 0.1244 - val_accuracy: 0.9692\n",
            "26/26 [==============================] - 21s 816ms/step - loss: 0.1046 - accuracy: 0.9701 - val_loss: 0.1234 - val_accuracy: 0.9697\n",
            "26/26 [==============================] - 22s 852ms/step - loss: 0.1008 - accuracy: 0.9708 - val_loss: 0.1226 - val_accuracy: 0.9703\n",
            "26/26 [==============================] - 21s 827ms/step - loss: 0.1002 - accuracy: 0.9715 - val_loss: 0.1207 - val_accuracy: 0.9716\n",
            "26/26 [==============================] - 23s 884ms/step - loss: 0.0974 - accuracy: 0.9725 - val_loss: 0.1372 - val_accuracy: 0.9720\n",
            "26/26 [==============================] - 24s 923ms/step - loss: 0.1174 - accuracy: 0.9711 - val_loss: 0.1171 - val_accuracy: 0.9702\n",
            "26/26 [==============================] - 26s 983ms/step - loss: 0.0916 - accuracy: 0.9711 - val_loss: 0.1049 - val_accuracy: 0.9700\n",
            "26/26 [==============================] - 25s 973ms/step - loss: 0.0812 - accuracy: 0.9712 - val_loss: 0.1056 - val_accuracy: 0.9705\n",
            "26/26 [==============================] - 23s 889ms/step - loss: 0.0779 - accuracy: 0.9723 - val_loss: 0.0987 - val_accuracy: 0.9715\n"
          ]
        }
      ],
      "source": [
        "results = pd.DataFrame()\n",
        "model_bilstm_lstm = get_bilstm_lstm_model()\n",
        "plot_model(model_bilstm_lstm)\n",
        "results['with_add_lstm'] = train_model(train_tokens, np.array(train_tags), model_bilstm_lstm)"
      ]
    },
    {
      "cell_type": "code",
      "execution_count": 17,
      "metadata": {
        "id": "kdWn4VNbi0QQ"
      },
      "outputs": [
        {
          "name": "stdout",
          "output_type": "stream",
          "text": [
            "('You must install pydot (`pip install pydot`) and install graphviz (see instructions at https://graphviz.gitlab.io/download/) ', 'for plot_model/model_to_dot to work.')\n"
          ]
        }
      ],
      "source": [
        "#Visualise model architecture\n",
        "plot_model(model_bilstm_lstm)"
      ]
    },
    {
      "cell_type": "code",
      "execution_count": 18,
      "metadata": {
        "id": "wWV3MKwnZrPG"
      },
      "outputs": [
        {
          "data": {
            "text/plain": [
              "[<matplotlib.lines.Line2D at 0x7f5d1af04e80>]"
            ]
          },
          "execution_count": 18,
          "metadata": {},
          "output_type": "execute_result"
        },
        {
          "data": {
            "image/png": "[encoded data removed]",
            "text/plain": [
              "<Figure size 640x480 with 1 Axes>"
            ]
          },
          "metadata": {},
          "output_type": "display_data"
        }
      ],
      "source": [
        "#Visualise loss curve of 25 epochs\n",
        "plt.plot(results['with_add_lstm'])"
      ]
    },
    {
      "cell_type": "markdown",
      "metadata": {},
      "source": [
        "## Results"
      ]
    },
    {
      "cell_type": "code",
      "execution_count": 19,
      "metadata": {},
      "outputs": [
        {
          "name": "stdout",
          "output_type": "stream",
          "text": [
            "Accuracy/Micro-f1/Micro-precision/Micro-recall: 0.9718\n"
          ]
        }
      ],
      "source": [
        "y_pred = model_bilstm_lstm.predict(test_tokens)\n",
        "\n",
        "y_pred = np.argmax(y_pred, axis=2)\n",
        "\n",
        "y_test = np.argmax(test_tags, axis=2)\n",
        "\n",
        "accuracy = (y_pred == y_test).mean()\n",
        "\n",
        "print(\"Accuracy/Micro-f1/Micro-precision/Micro-recall: {:.4f}\".format(accuracy))"
      ]
    },
    {
      "cell_type": "code",
      "execution_count": 20,
      "metadata": {},
      "outputs": [],
      "source": [
        "def tag_conf_matrix(cm, tagid):\n",
        "    tag_name = idx2tag[tagid]\n",
        "    #print(\"Tag name: {}\".format(tag_name))\n",
        "    #print(cm[tagid])\n",
        "    tn, fp, fn, tp = cm[tagid].ravel()\n",
        "    tag_acc = (tp + tn) / (tn + fp + fn + tp)\n",
        "    tag_pre = tp / (tp + fp)\n",
        "    tag_rec = tp / (tp + fn)\n",
        "    tag_f1 = 2*(tag_pre * tag_rec)/(tag_pre + tag_rec)\n",
        "    #print(\"Tag accuracy: {:.3f} \\n\".format(tag_acc))\n",
        "    #print(\"Tag precision: {:.3f} \\n\".format(tag_pre))\n",
        "    #print(\"Tag recall: {:.3f} \\n\".format(tag_rec))\n",
        "    #print(\"Tag f1: {:.3f} \\n\".format(tag_f1))\n",
        "\n",
        "    return tag_acc, tag_pre, tag_rec, tag_f1\n"
      ]
    },
    {
      "cell_type": "code",
      "execution_count": 21,
      "metadata": {},
      "outputs": [],
      "source": [
        "def macro_f1(cm):\n",
        "    f1_list = []\n",
        "    for i in range(0, 17): #for every class\n",
        "        tag_acc, tag_pre, tag_rec, tag_f1 = tag_conf_matrix(cm, i)\n",
        "        f1_list.append(tag_f1)\n",
        "    score = np.nanmean(f1_list)\n",
        "    return score"
      ]
    },
    {
      "cell_type": "code",
      "execution_count": 22,
      "metadata": {},
      "outputs": [
        {
          "name": "stderr",
          "output_type": "stream",
          "text": [
            "/tmp/ipykernel_6612/1659057365.py:7: RuntimeWarning: invalid value encountered in long_scalars\n",
            "  tag_pre = tp / (tp + fp)\n",
            "/tmp/ipykernel_6612/1659057365.py:9: RuntimeWarning: invalid value encountered in double_scalars\n",
            "  tag_f1 = 2*(tag_pre * tag_rec)/(tag_pre + tag_rec)\n"
          ]
        },
        {
          "data": {
            "text/plain": [
              "0.31720388861667326"
            ]
          },
          "execution_count": 22,
          "metadata": {},
          "output_type": "execute_result"
        }
      ],
      "source": [
        "cm = multilabel_confusion_matrix(y_test.flatten(), y_pred.flatten())\n",
        "macro_f1(cm)"
      ]
    },
    {
      "cell_type": "code",
      "execution_count": 23,
      "metadata": {},
      "outputs": [
        {
          "name": "stdout",
          "output_type": "stream",
          "text": [
            "nan\n",
            "nan\n",
            "nan\n",
            "nan\n",
            "0.00851063829787234\n",
            "0.24114397140071497\n",
            "0.3087621696801113\n",
            "nan\n",
            "nan\n",
            "0.08622754491017964\n",
            "nan\n",
            "nan\n",
            "0.18515997277059226\n",
            "0.19558359621451105\n",
            "0.28023598820059\n",
            "0.9869847245808037\n",
            "0.5622263914946841\n"
          ]
        },
        {
          "name": "stderr",
          "output_type": "stream",
          "text": [
            "/tmp/ipykernel_6612/1659057365.py:7: RuntimeWarning: invalid value encountered in long_scalars\n",
            "  tag_pre = tp / (tp + fp)\n",
            "/tmp/ipykernel_6612/1659057365.py:9: RuntimeWarning: invalid value encountered in double_scalars\n",
            "  tag_f1 = 2*(tag_pre * tag_rec)/(tag_pre + tag_rec)\n"
          ]
        }
      ],
      "source": [
        "#for i in range(0, 17):\n",
        "    #tag_acc, tag_pre, tag_rec, tag_f1 = tag_conf_matrix(cm, i)\n",
        "    #print(tag_f1)"
      ]
    },
    {
      "cell_type": "markdown",
      "metadata": {
        "id": "2bdG2Hun3N3t"
      },
      "source": [
        "# Re3d data"
      ]
    },
    {
      "cell_type": "markdown",
      "metadata": {
        "id": "1WBZFX1fm0L2"
      },
      "source": [
        "## Import and preprocess domain-specific model"
      ]
    },
    {
      "cell_type": "code",
      "execution_count": 24,
      "metadata": {
        "id": "oWYmItQMkzLB"
      },
      "outputs": [],
      "source": [
        "#Prepare dataframe from text file\n",
        "def prepare_data(path):\n",
        "  data = pd.DataFrame(columns=['Sentence', 'Word', 'Tag'])\n",
        "  with open(path) as f:\n",
        "    sentence = 0\n",
        "    for line in f:\n",
        "      if line == '\\n':\n",
        "        sentence += 1\n",
        "      else:\n",
        "        split = line.split(\"\\t\")\n",
        "        word = split[0]\n",
        "        tag = split[1].strip()\n",
        "        new_row = {'Sentence': sentence, 'Word': word, 'Tag': tag}\n",
        "        data = data.append(new_row, ignore_index=True)\n",
        "  return data"
      ]
    },
    {
      "cell_type": "code",
      "execution_count": 25,
      "metadata": {
        "id": "xMzWH_KvjUSs"
      },
      "outputs": [],
      "source": [
        "train_path = 'entity-recognition-datasets-master/data/re3d/CONLL-format/data/train/re3d-train.conll'\n",
        "train_df = prepare_data(train_path)\n",
        "test_path = 'entity-recognition-datasets-master/data/re3d/CONLL-format/data/test/re3d-test.conll'\n",
        "test_df = prepare_data(test_path)\n",
        "\n",
        "#train_df = pd.to_csv('')"
      ]
    },
    {
      "cell_type": "code",
      "execution_count": 26,
      "metadata": {
        "id": "IJTQcfs_odYp"
      },
      "outputs": [],
      "source": [
        "ds_data = pd.concat([train_df, test_df])"
      ]
    },
    {
      "cell_type": "code",
      "execution_count": 27,
      "metadata": {
        "id": "wJBo_465mkTG"
      },
      "outputs": [],
      "source": [
        "#Get index to word, word to index, index to tag, tag to index mapping\n",
        "idx2word, word2idx = get_dict_map(ds_data, 'Word')\n",
        "idx2tag, tag2idx = get_dict_map(ds_data, 'Tag')"
      ]
    },
    {
      "cell_type": "code",
      "execution_count": 28,
      "metadata": {
        "colab": {
          "base_uri": "https://localhost:8080/"
        },
        "id": "KsFDVbJ1urxm",
        "outputId": "efcb6035-7983-405d-8fbb-5b0bfdd07503"
      },
      "outputs": [
        {
          "name": "stderr",
          "output_type": "stream",
          "text": [
            "/tmp/ipykernel_6612/3682637150.py:8: FutureWarning: Indexing with multiple keys (implicitly converted to a tuple of keys) will be deprecated, use a list instead.\n",
            "  data_group = data.groupby(['Sentence'],as_index=False)['Word', 'Tag', 'Word_index', 'Tag_index'].agg(lambda x: list(x))\n"
          ]
        }
      ],
      "source": [
        "ds_data_group = group_data(ds_data, word2idx, tag2idx)"
      ]
    },
    {
      "cell_type": "markdown",
      "metadata": {
        "id": "OMVta848mkTJ"
      },
      "source": [
        "## Prepare data"
      ]
    },
    {
      "cell_type": "code",
      "execution_count": 29,
      "metadata": {
        "colab": {
          "base_uri": "https://localhost:8080/",
          "height": 167
        },
        "id": "ArBmO-PAnHNf",
        "outputId": "388f731d-2f3f-43c5-c54e-9eb78e398631"
      },
      "outputs": [],
      "source": [
        "#train_tokens, val_tokens, test_tokens, train_tags, val_tags, test_tags = get_pad_train_test_val(ds_data_group, ds_data)"
      ]
    },
    {
      "cell_type": "code",
      "execution_count": 30,
      "metadata": {
        "id": "Af7qL6bssOPw"
      },
      "outputs": [],
      "source": [
        "def get_pad_train_test(data_group, data):\n",
        "\n",
        "    #total num of unique words and tags\n",
        "    n_token = len(list(set(data['Word'].to_list())))\n",
        "    n_tag = len(list(set(data['Tag'].to_list())))\n",
        "\n",
        "    #Pad Words (X var)    \n",
        "    words = data_group['Word_index'].tolist()\n",
        "    maxlen = max([len(word) for word in words])\n",
        "    pad_tokens = pad_sequences(words, maxlen=maxlen, dtype='int32', padding='post', value= n_token - 1)\n",
        "\n",
        "    #Pad Tags (y var) and convert it into one hot encoding\n",
        "    tags = data_group['Tag_index'].tolist()\n",
        "    pad_tags = pad_sequences(tags, maxlen=maxlen, dtype='int32', padding='post', value= tag2idx[\"O\"])\n",
        "    n_tags = len(tag2idx)\n",
        "    pad_tags = [to_categorical(i, num_classes=n_tags) for i in pad_tags] #one hot encoding\n",
        "    \n",
        "    #Split train, test and validation set\n",
        "    train_tokens, test_tokens, train_tags, test_tags = train_test_split(pad_tokens, pad_tags, test_size=0.1, train_size=0.9, random_state=2020)\n",
        "\n",
        "    print(\n",
        "        'train_words length:', len(train_tokens),\n",
        "        '\\ntrain_tags length:', len(train_tags),\n",
        "        '\\ntest_words length:', len(test_tokens),\n",
        "        '\\ntest_tags:', len(test_tags),\n",
        "\n",
        "    )\n",
        "    \n",
        "    return train_tokens, test_tokens, train_tags, test_tags"
      ]
    },
    {
      "cell_type": "code",
      "execution_count": 31,
      "metadata": {
        "colab": {
          "base_uri": "https://localhost:8080/"
        },
        "id": "RwCqa2UPtzEy",
        "outputId": "0fef56be-8b89-411d-9a63-4cb2d9850e19"
      },
      "outputs": [
        {
          "name": "stdout",
          "output_type": "stream",
          "text": [
            "train_words length: 688 \n",
            "train_tags length: 688 \n",
            "test_words length: 77 \n",
            "test_tags: 77\n"
          ]
        }
      ],
      "source": [
        "train_tokens, test_tokens, train_tags, test_tags = get_pad_train_test(ds_data_group, ds_data)"
      ]
    },
    {
      "cell_type": "markdown",
      "metadata": {
        "id": "EFwEGqBOmkTL"
      },
      "source": [
        "## Model"
      ]
    },
    {
      "cell_type": "code",
      "execution_count": 32,
      "metadata": {
        "id": "tyGpPcMWmkTM"
      },
      "outputs": [],
      "source": [
        "seed(1)\n",
        "tf.random.set_seed(2)"
      ]
    },
    {
      "cell_type": "code",
      "execution_count": 33,
      "metadata": {
        "colab": {
          "base_uri": "https://localhost:8080/"
        },
        "id": "mzTbdHcomkTN",
        "outputId": "e1dec656-b830-415a-e609-ed530e0a10dc"
      },
      "outputs": [
        {
          "name": "stdout",
          "output_type": "stream",
          "text": [
            "input_dim:  4295 \n",
            "output_dim:  64 \n",
            "input_length:  154 \n",
            "n_tags:  21\n"
          ]
        }
      ],
      "source": [
        "input_dim = len(list(set(ds_data['Word'].to_list())))+1\n",
        "output_dim = 64\n",
        "input_length = max([len(s) for s in ds_data_group['Word_index'].tolist()])\n",
        "n_tags = len(tag2idx)\n",
        "print('input_dim: ', input_dim, '\\noutput_dim: ', output_dim, '\\ninput_length: ', input_length, '\\nn_tags: ', n_tags)"
      ]
    },
    {
      "cell_type": "code",
      "execution_count": 34,
      "metadata": {
        "id": "3Ael9GI-mkTO"
      },
      "outputs": [],
      "source": [
        "#Function to initialise and structure NN architecture\n",
        "def get_bilstm_lstm_model():\n",
        "    model = Sequential()\n",
        "\n",
        "    # Add Embedding layer\n",
        "    model.add(Embedding(input_dim=input_dim, output_dim=output_dim, input_length=input_length))\n",
        "\n",
        "    # Add bidirectional LSTM\n",
        "    model.add(Bidirectional(LSTM(units=output_dim, return_sequences=True, dropout=0.2, recurrent_dropout=0.2), merge_mode = 'concat'))\n",
        "\n",
        "    # Add LSTM\n",
        "    model.add(LSTM(units=output_dim, return_sequences=True, dropout=0.5, recurrent_dropout=0.5))\n",
        "\n",
        "    # Add timeDistributed Layer\n",
        "    model.add(TimeDistributed(Dense(n_tags, activation=\"relu\")))\n",
        "\n",
        "    #Optimiser \n",
        "    # adam = k.optimizers.Adam(lr=0.0005, beta_1=0.9, beta_2=0.999)\n",
        "\n",
        "    # Compile model\n",
        "    model.compile(loss='categorical_crossentropy', optimizer='adam', metrics=['accuracy'])\n",
        "    model.summary()\n",
        "    \n",
        "    return model"
      ]
    },
    {
      "cell_type": "code",
      "execution_count": 35,
      "metadata": {
        "id": "r22IObwBmkTO"
      },
      "outputs": [],
      "source": [
        "#Function to train model, returns list of losses for each epoch\n",
        "def train_model(X, y, model):\n",
        "    loss = list()\n",
        "    for i in range(25): #run 25 epochs in total\n",
        "        # fit model for one epoch on this sequence\n",
        "        hist = model.fit(X, y, batch_size=1000, verbose=1, epochs=1, validation_split=0.1)\n",
        "        loss.append(hist.history['loss'][0])\n",
        "    return loss"
      ]
    },
    {
      "cell_type": "code",
      "execution_count": 36,
      "metadata": {
        "colab": {
          "base_uri": "https://localhost:8080/"
        },
        "id": "WiLuuxe1mkTP",
        "outputId": "ad1bd85b-52ca-4ce0-89e9-232b5c0e2d5c"
      },
      "outputs": [
        {
          "name": "stdout",
          "output_type": "stream",
          "text": [
            "Model: \"sequential_1\"\n",
            "_________________________________________________________________\n",
            "Layer (type)                 Output Shape              Param #   \n",
            "=================================================================\n",
            "embedding_1 (Embedding)      (None, 154, 64)           274880    \n",
            "_________________________________________________________________\n",
            "bidirectional_1 (Bidirection (None, 154, 128)          66048     \n",
            "_________________________________________________________________\n",
            "lstm_3 (LSTM)                (None, 154, 64)           49408     \n",
            "_________________________________________________________________\n",
            "time_distributed_1 (TimeDist (None, 154, 21)           1365      \n",
            "=================================================================\n",
            "Total params: 391,701\n",
            "Trainable params: 391,701\n",
            "Non-trainable params: 0\n",
            "_________________________________________________________________\n",
            "('You must install pydot (`pip install pydot`) and install graphviz (see instructions at https://graphviz.gitlab.io/download/) ', 'for plot_model/model_to_dot to work.')\n",
            "1/1 [==============================] - 5s 5s/step - loss: 3.1540 - accuracy: 0.0861 - val_loss: 1.0619 - val_accuracy: 0.9208\n",
            "1/1 [==============================] - 1s 795ms/step - loss: 1.0321 - accuracy: 0.9205 - val_loss: 0.8169 - val_accuracy: 0.9222\n",
            "1/1 [==============================] - 1s 802ms/step - loss: 0.7850 - accuracy: 0.9320 - val_loss: 0.7529 - val_accuracy: 0.9222\n",
            "1/1 [==============================] - 1s 795ms/step - loss: 0.7012 - accuracy: 0.9328 - val_loss: 0.6641 - val_accuracy: 0.9222\n",
            "1/1 [==============================] - 1s 789ms/step - loss: 0.6171 - accuracy: 0.9329 - val_loss: 0.6040 - val_accuracy: 0.9222\n",
            "1/1 [==============================] - 1s 797ms/step - loss: 0.5794 - accuracy: 0.9330 - val_loss: 0.5884 - val_accuracy: 0.9222\n",
            "1/1 [==============================] - 1s 791ms/step - loss: 0.5463 - accuracy: 0.9330 - val_loss: 0.5615 - val_accuracy: 0.9222\n",
            "1/1 [==============================] - 1s 797ms/step - loss: 0.5262 - accuracy: 0.9330 - val_loss: 0.5552 - val_accuracy: 0.9222\n",
            "1/1 [==============================] - 1s 807ms/step - loss: 0.5045 - accuracy: 0.9330 - val_loss: 0.5509 - val_accuracy: 0.9222\n",
            "1/1 [==============================] - 1s 807ms/step - loss: 0.5053 - accuracy: 0.9331 - val_loss: 0.5436 - val_accuracy: 0.9222\n",
            "1/1 [==============================] - 1s 856ms/step - loss: 0.4960 - accuracy: 0.9330 - val_loss: 0.5360 - val_accuracy: 0.9222\n",
            "1/1 [==============================] - 1s 847ms/step - loss: 0.4884 - accuracy: 0.9331 - val_loss: 0.5306 - val_accuracy: 0.9222\n",
            "1/1 [==============================] - 1s 861ms/step - loss: 0.4725 - accuracy: 0.9331 - val_loss: 0.5262 - val_accuracy: 0.9222\n",
            "1/1 [==============================] - 1s 822ms/step - loss: 0.4652 - accuracy: 0.9331 - val_loss: 0.5149 - val_accuracy: 0.9222\n",
            "1/1 [==============================] - 1s 844ms/step - loss: 0.4537 - accuracy: 0.9331 - val_loss: 0.4896 - val_accuracy: 0.9222\n",
            "1/1 [==============================] - 1s 884ms/step - loss: 0.4373 - accuracy: 0.9331 - val_loss: 0.4695 - val_accuracy: 0.9222\n",
            "1/1 [==============================] - 1s 847ms/step - loss: 0.4167 - accuracy: 0.9331 - val_loss: 0.4562 - val_accuracy: 0.9222\n",
            "1/1 [==============================] - 1s 846ms/step - loss: 0.4018 - accuracy: 0.9331 - val_loss: 0.4616 - val_accuracy: 0.9222\n",
            "1/1 [==============================] - 1s 863ms/step - loss: 0.4066 - accuracy: 0.9330 - val_loss: 0.4684 - val_accuracy: 0.9222\n",
            "1/1 [==============================] - 1s 808ms/step - loss: 0.4079 - accuracy: 0.9330 - val_loss: 0.4773 - val_accuracy: 0.9222\n",
            "1/1 [==============================] - 1s 814ms/step - loss: 0.4127 - accuracy: 0.9330 - val_loss: 0.4816 - val_accuracy: 0.9222\n",
            "1/1 [==============================] - 1s 864ms/step - loss: 0.4154 - accuracy: 0.9330 - val_loss: 0.4837 - val_accuracy: 0.9222\n",
            "1/1 [==============================] - 1s 827ms/step - loss: 0.4140 - accuracy: 0.9330 - val_loss: 0.4838 - val_accuracy: 0.9223\n",
            "1/1 [==============================] - 1s 821ms/step - loss: 0.4131 - accuracy: 0.9329 - val_loss: 0.4802 - val_accuracy: 0.9223\n",
            "1/1 [==============================] - 1s 810ms/step - loss: 0.4100 - accuracy: 0.9331 - val_loss: 0.4779 - val_accuracy: 0.9223\n"
          ]
        }
      ],
      "source": [
        "results = pd.DataFrame()\n",
        "model_bilstm_lstm = get_bilstm_lstm_model()\n",
        "plot_model(model_bilstm_lstm)\n",
        "results['with_add_lstm'] = train_model(train_tokens, np.array(train_tags), model_bilstm_lstm)"
      ]
    },
    {
      "cell_type": "code",
      "execution_count": null,
      "metadata": {},
      "outputs": [],
      "source": [
        "plt.plot(results['with_add_lstm'])"
      ]
    },
    {
      "cell_type": "markdown",
      "metadata": {},
      "source": [
        "## Results"
      ]
    },
    {
      "cell_type": "code",
      "execution_count": 37,
      "metadata": {},
      "outputs": [
        {
          "name": "stdout",
          "output_type": "stream",
          "text": [
            "Accuracy/Micro-f1/Micro-precision/Micro-recall: 0.9440\n"
          ]
        }
      ],
      "source": [
        "y_pred = model_bilstm_lstm.predict(test_tokens)\n",
        "\n",
        "y_pred = np.argmax(y_pred, axis=2)\n",
        "\n",
        "y_test = np.argmax(test_tags, axis=2)\n",
        "\n",
        "accuracy = (y_pred == y_test).mean()\n",
        "\n",
        "print(\"Accuracy/Micro-f1/Micro-precision/Micro-recall: {:.4f}\".format(accuracy))"
      ]
    },
    {
      "cell_type": "code",
      "execution_count": 38,
      "metadata": {},
      "outputs": [],
      "source": [
        "def tag_conf_matrix(cm, tagid):\n",
        "    tag_name = idx2tag[tagid]\n",
        "    #print(\"Tag name: {}\".format(tag_name))\n",
        "    #print(cm[tagid])\n",
        "    tn, fp, fn, tp = cm[tagid].ravel()\n",
        "    tag_acc = (tp + tn) / (tn + fp + fn + tp)\n",
        "    tag_pre = tp / (tp + fp)\n",
        "    tag_rec = tp / (tp + fn)\n",
        "    tag_f1 = 2*(tag_pre * tag_rec)/(tag_pre + tag_rec)\n",
        "    #print(\"Tag accuracy: {:.3f} \\n\".format(tag_acc))\n",
        "    #print(\"Tag precision: {:.3f} \\n\".format(tag_pre))\n",
        "    #print(\"Tag recall: {:.3f} \\n\".format(tag_rec))\n",
        "    #print(\"Tag f1: {:.3f} \\n\".format(tag_f1))\n",
        "\n",
        "    return tag_acc, tag_pre, tag_rec, tag_f1\n"
      ]
    },
    {
      "cell_type": "code",
      "execution_count": 39,
      "metadata": {},
      "outputs": [
        {
          "data": {
            "text/plain": [
              "{0: 'B-Temporal',\n",
              " 1: 'I-Location',\n",
              " 2: 'I-DocumentReference',\n",
              " 3: 'B-MilitaryPlatform',\n",
              " 4: 'I-Person',\n",
              " 5: 'I-Nationality',\n",
              " 6: 'I-Weapon',\n",
              " 7: 'I-Organisation',\n",
              " 8: 'I-MilitaryPlatform',\n",
              " 9: 'B-Location',\n",
              " 10: 'I-Temporal',\n",
              " 11: 'B-Organisation',\n",
              " 12: 'B-DocumentReference',\n",
              " 13: 'B-Quantity',\n",
              " 14: 'I-Money',\n",
              " 15: 'B-Weapon',\n",
              " 16: 'B-Person',\n",
              " 17: 'I-Quantity',\n",
              " 18: 'B-Money',\n",
              " 19: 'B-Nationality',\n",
              " 20: 'O'}"
            ]
          },
          "execution_count": 39,
          "metadata": {},
          "output_type": "execute_result"
        }
      ],
      "source": [
        "idx2tag"
      ]
    },
    {
      "cell_type": "code",
      "execution_count": 40,
      "metadata": {},
      "outputs": [],
      "source": [
        "def macro_f1(cm):\n",
        "    f1_list = []\n",
        "    for i in range(0, 20): #for every class\n",
        "        tag_acc, tag_pre, tag_rec, tag_f1 = tag_conf_matrix(cm, i)\n",
        "        f1_list.append(tag_f1)\n",
        "    score = np.nanmean(f1_list)\n",
        "    return score"
      ]
    },
    {
      "cell_type": "code",
      "execution_count": 41,
      "metadata": {},
      "outputs": [
        {
          "name": "stderr",
          "output_type": "stream",
          "text": [
            "/tmp/ipykernel_6612/1659057365.py:7: RuntimeWarning: invalid value encountered in long_scalars\n",
            "  tag_pre = tp / (tp + fp)\n",
            "/tmp/ipykernel_6612/1659057365.py:9: RuntimeWarning: invalid value encountered in double_scalars\n",
            "  tag_f1 = 2*(tag_pre * tag_rec)/(tag_pre + tag_rec)\n"
          ]
        },
        {
          "data": {
            "text/plain": [
              "0.9712798264642083"
            ]
          },
          "execution_count": 41,
          "metadata": {},
          "output_type": "execute_result"
        }
      ],
      "source": [
        "cm = multilabel_confusion_matrix(y_test.flatten(), y_pred.flatten())\n",
        "macro_f1(cm)"
      ]
    },
    {
      "cell_type": "markdown",
      "metadata": {
        "id": "2bdG2Hun3N3t"
      },
      "source": [
        "# DOCRED data"
      ]
    },
    {
      "cell_type": "markdown",
      "metadata": {
        "id": "1WBZFX1fm0L2"
      },
      "source": [
        "## Import and preprocess domain-specific model"
      ]
    },
    {
      "cell_type": "code",
      "execution_count": 42,
      "metadata": {
        "id": "oWYmItQMkzLB"
      },
      "outputs": [],
      "source": [
        "#Prepare dataframe from text file\n",
        "def prepare_data(path):\n",
        "  data = pd.DataFrame(columns=['Sentence', 'Word', 'Tag'])\n",
        "  with open(path) as f:\n",
        "    sentence = 0\n",
        "    for line in f:\n",
        "      if line == '\\n':\n",
        "        sentence += 1\n",
        "      else:\n",
        "        split = line.split(\"\\t\")\n",
        "        word = split[0]\n",
        "        tag = split[1].strip()\n",
        "        new_row = {'Sentence': sentence, 'Word': word, 'Tag': tag}\n",
        "        data = data.append(new_row, ignore_index=True)\n",
        "  return data"
      ]
    },
    {
      "cell_type": "code",
      "execution_count": 43,
      "metadata": {},
      "outputs": [],
      "source": [
        "#Converting text file (in conll format) to dataframe\n",
        "#Just run once\n",
        "\n",
        "#dev_path = 'docred_preprocessed/dev.txt'\n",
        "#dev_df = prepare_data(dev_path)\n",
        "#dev_df.to_csv('dev_df.csv')\n",
        "\n",
        "#test_path = 'docred_preprocessed/test.txt'\n",
        "#test_df = prepare_data(test_path)\n",
        "#test_df.to_csv('test_df.csv')\n",
        "\n",
        "#train_path = 'docred_preprocessed/train.txt'\n",
        "#train_df = prepare_data(train_path)\n",
        "#train_df.to_csv('train_df.csv')"
      ]
    },
    {
      "cell_type": "code",
      "execution_count": 44,
      "metadata": {},
      "outputs": [],
      "source": [
        "train_df = pd.read_csv('train_df.csv')\n",
        "dev_df = pd.read_csv('dev_df.csv')\n",
        "test_df = pd.read_csv('test_df.csv')"
      ]
    },
    {
      "cell_type": "code",
      "execution_count": 45,
      "metadata": {
        "id": "IJTQcfs_odYp"
      },
      "outputs": [],
      "source": [
        "ds_data = pd.concat([train_df, test_df])\n",
        "ds_data = pd.concat([ds_data, dev_df])"
      ]
    },
    {
      "cell_type": "code",
      "execution_count": 46,
      "metadata": {
        "id": "wJBo_465mkTG"
      },
      "outputs": [],
      "source": [
        "#Get index to word, word to index, index to tag, tag to index mapping\n",
        "idx2word, word2idx = get_dict_map(ds_data, 'Word')\n",
        "idx2tag, tag2idx = get_dict_map(ds_data, 'Tag')"
      ]
    },
    {
      "cell_type": "code",
      "execution_count": 47,
      "metadata": {
        "colab": {
          "base_uri": "https://localhost:8080/"
        },
        "id": "KsFDVbJ1urxm",
        "outputId": "efcb6035-7983-405d-8fbb-5b0bfdd07503"
      },
      "outputs": [
        {
          "name": "stderr",
          "output_type": "stream",
          "text": [
            "/tmp/ipykernel_6612/3682637150.py:8: FutureWarning: Indexing with multiple keys (implicitly converted to a tuple of keys) will be deprecated, use a list instead.\n",
            "  data_group = data.groupby(['Sentence'],as_index=False)['Word', 'Tag', 'Word_index', 'Tag_index'].agg(lambda x: list(x))\n"
          ]
        }
      ],
      "source": [
        "ds_data_group = group_data(ds_data, word2idx, tag2idx)"
      ]
    },
    {
      "cell_type": "code",
      "execution_count": 48,
      "metadata": {},
      "outputs": [
        {
          "data": {
            "text/plain": [
              "(3008, 5)"
            ]
          },
          "execution_count": 48,
          "metadata": {},
          "output_type": "execute_result"
        }
      ],
      "source": [
        "ds_data_group.shape"
      ]
    },
    {
      "cell_type": "code",
      "execution_count": 49,
      "metadata": {},
      "outputs": [],
      "source": [
        "ds_data_group = ds_data_group.head(700)"
      ]
    },
    {
      "cell_type": "markdown",
      "metadata": {
        "id": "OMVta848mkTJ"
      },
      "source": [
        "## Prepare data"
      ]
    },
    {
      "cell_type": "code",
      "execution_count": 50,
      "metadata": {
        "colab": {
          "base_uri": "https://localhost:8080/",
          "height": 167
        },
        "id": "ArBmO-PAnHNf",
        "outputId": "388f731d-2f3f-43c5-c54e-9eb78e398631"
      },
      "outputs": [],
      "source": [
        "#train_tokens, val_tokens, test_tokens, train_tags, val_tags, test_tags = get_pad_train_test_val(ds_data_group, ds_data)"
      ]
    },
    {
      "cell_type": "code",
      "execution_count": 51,
      "metadata": {
        "id": "Af7qL6bssOPw"
      },
      "outputs": [],
      "source": [
        "def get_pad_train_test(data_group, data):\n",
        "\n",
        "    #total num of unique words and tags\n",
        "    n_token = len(list(set(data['Word'].to_list())))\n",
        "    n_tag = len(list(set(data['Tag'].to_list())))\n",
        "\n",
        "    #Pad Words (X var)    \n",
        "    words = data_group['Word_index'].tolist()\n",
        "    maxlen = max([len(word) for word in words])\n",
        "    pad_tokens = pad_sequences(words, maxlen=maxlen, dtype='int32', padding='post', value= n_token - 1)\n",
        "\n",
        "    #Pad Tags (y var) and convert it into one hot encoding\n",
        "    tags = data_group['Tag_index'].tolist()\n",
        "    pad_tags = pad_sequences(tags, maxlen=maxlen, dtype='int32', padding='post', value= tag2idx[\"O\"])\n",
        "    n_tags = len(tag2idx)\n",
        "    pad_tags = [to_categorical(i, num_classes=n_tags) for i in pad_tags] #one hot encoding\n",
        "    \n",
        "    #Split train, test and validation set\n",
        "    train_tokens, test_tokens, train_tags, test_tags = train_test_split(pad_tokens, pad_tags, test_size=0.1, train_size=0.9, random_state=2020)\n",
        "\n",
        "    print(\n",
        "        'train_words length:', len(train_tokens),\n",
        "        '\\ntrain_tags length:', len(train_tags),\n",
        "        '\\ntest_words length:', len(test_tokens),\n",
        "        '\\ntest_tags:', len(test_tags),\n",
        "\n",
        "    )\n",
        "    \n",
        "    return train_tokens, test_tokens, train_tags, test_tags"
      ]
    },
    {
      "cell_type": "code",
      "execution_count": 52,
      "metadata": {
        "colab": {
          "base_uri": "https://localhost:8080/"
        },
        "id": "RwCqa2UPtzEy",
        "outputId": "0fef56be-8b89-411d-9a63-4cb2d9850e19"
      },
      "outputs": [
        {
          "name": "stdout",
          "output_type": "stream",
          "text": [
            "train_words length: 630 \n",
            "train_tags length: 630 \n",
            "test_words length: 70 \n",
            "test_tags: 70\n"
          ]
        }
      ],
      "source": [
        "train_tokens, test_tokens, train_tags, test_tags = get_pad_train_test(ds_data_group, ds_data)"
      ]
    },
    {
      "cell_type": "markdown",
      "metadata": {
        "id": "EFwEGqBOmkTL"
      },
      "source": [
        "## Model"
      ]
    },
    {
      "cell_type": "code",
      "execution_count": 53,
      "metadata": {
        "id": "tyGpPcMWmkTM"
      },
      "outputs": [],
      "source": [
        "seed(1)\n",
        "tf.random.set_seed(2)"
      ]
    },
    {
      "cell_type": "code",
      "execution_count": 54,
      "metadata": {
        "colab": {
          "base_uri": "https://localhost:8080/"
        },
        "id": "mzTbdHcomkTN",
        "outputId": "e1dec656-b830-415a-e609-ed530e0a10dc"
      },
      "outputs": [
        {
          "name": "stdout",
          "output_type": "stream",
          "text": [
            "input_dim:  32744 \n",
            "output_dim:  64 \n",
            "input_length:  1246 \n",
            "n_tags:  13\n"
          ]
        }
      ],
      "source": [
        "input_dim = len(list(set(ds_data['Word'].to_list())))+1\n",
        "output_dim = 64\n",
        "input_length = max([len(s) for s in ds_data_group['Word_index'].tolist()])\n",
        "n_tags = len(tag2idx)\n",
        "print('input_dim: ', input_dim, '\\noutput_dim: ', output_dim, '\\ninput_length: ', input_length, '\\nn_tags: ', n_tags)"
      ]
    },
    {
      "cell_type": "code",
      "execution_count": 75,
      "metadata": {
        "id": "3Ael9GI-mkTO"
      },
      "outputs": [],
      "source": [
        "#Function to initialise and structure NN architecture\n",
        "def get_bilstm_lstm_model():\n",
        "    model = Sequential()\n",
        "\n",
        "    # Add Embedding layer\n",
        "    model.add(Embedding(input_dim=input_dim, output_dim=output_dim, input_length=input_length))\n",
        "\n",
        "    # Add bidirectional LSTM\n",
        "    model.add(Bidirectional(LSTM(units=output_dim, return_sequences=True, dropout=0.2, recurrent_dropout=0.2), merge_mode = 'concat'))\n",
        "\n",
        "    # Add LSTM\n",
        "    model.add(LSTM(units=output_dim, return_sequences=True, dropout=0.5, recurrent_dropout=0.5))\n",
        "\n",
        "    # Add timeDistributed Layer\n",
        "    model.add(TimeDistributed(Dense(n_tags, activation=\"relu\")))\n",
        "\n",
        "    #Optimiser \n",
        "    #adam = optimizers.Adam(learning_rate=0.0001, beta_1=0.9, beta_2=0.999)\n",
        "\n",
        "    # Compile model\n",
        "    model.compile(loss='categorical_crossentropy', optimizer='adam', metrics=['accuracy'])\n",
        "    model.summary()\n",
        "    \n",
        "    return model"
      ]
    },
    {
      "cell_type": "code",
      "execution_count": 76,
      "metadata": {
        "id": "r22IObwBmkTO"
      },
      "outputs": [],
      "source": [
        "#Function to train model, returns list of losses for each epoch\n",
        "def train_model(X, y, model):\n",
        "    loss = list()\n",
        "    for i in range(25): #run 25 epochs in total\n",
        "        # fit model for one epoch on this sequence\n",
        "        hist = model.fit(X, y, batch_size=10, verbose=1, epochs=1, validation_split=0.1)\n",
        "        loss.append(hist.history['loss'][0])\n",
        "    return loss"
      ]
    },
    {
      "cell_type": "code",
      "execution_count": 77,
      "metadata": {
        "colab": {
          "base_uri": "https://localhost:8080/"
        },
        "id": "WiLuuxe1mkTP",
        "outputId": "ad1bd85b-52ca-4ce0-89e9-232b5c0e2d5c"
      },
      "outputs": [
        {
          "name": "stdout",
          "output_type": "stream",
          "text": [
            "Model: \"sequential_5\"\n",
            "_________________________________________________________________\n",
            "Layer (type)                 Output Shape              Param #   \n",
            "=================================================================\n",
            "embedding_5 (Embedding)      (None, 1246, 64)          2095616   \n",
            "_________________________________________________________________\n",
            "bidirectional_5 (Bidirection (None, 1246, 128)         66048     \n",
            "_________________________________________________________________\n",
            "lstm_11 (LSTM)               (None, 1246, 64)          49408     \n",
            "_________________________________________________________________\n",
            "time_distributed_5 (TimeDist (None, 1246, 13)          845       \n",
            "=================================================================\n",
            "Total params: 2,211,917\n",
            "Trainable params: 2,211,917\n",
            "Non-trainable params: 0\n",
            "_________________________________________________________________\n",
            "('You must install pydot (`pip install pydot`) and install graphviz (see instructions at https://graphviz.gitlab.io/download/) ', 'for plot_model/model_to_dot to work.')\n",
            "57/57 [==============================] - 69s 1s/step - loss: 1.0573 - accuracy: 0.9136 - val_loss: 0.6211 - val_accuracy: 0.9439\n",
            "57/57 [==============================] - 66s 1s/step - loss: 0.6468 - accuracy: 0.9437 - val_loss: 0.5774 - val_accuracy: 0.9439\n",
            "57/57 [==============================] - 67s 1s/step - loss: 0.4549 - accuracy: 0.9437 - val_loss: 0.4311 - val_accuracy: 0.9439\n",
            "57/57 [==============================] - 66s 1s/step - loss: 0.3791 - accuracy: 0.9437 - val_loss: 0.4440 - val_accuracy: 0.9439\n",
            "57/57 [==============================] - 66s 1s/step - loss: 0.3540 - accuracy: 0.9437 - val_loss: 0.3705 - val_accuracy: 0.9439\n",
            "57/57 [==============================] - 66s 1s/step - loss: 0.4422 - accuracy: 0.9437 - val_loss: 0.3768 - val_accuracy: 0.9439\n",
            "57/57 [==============================] - 66s 1s/step - loss: 0.3183 - accuracy: 0.9437 - val_loss: 0.3541 - val_accuracy: 0.9439\n",
            "57/57 [==============================] - 66s 1s/step - loss: 0.2774 - accuracy: 0.9437 - val_loss: 0.3963 - val_accuracy: 0.9439\n",
            "57/57 [==============================] - 66s 1s/step - loss: 0.2577 - accuracy: 0.9437 - val_loss: 0.4052 - val_accuracy: 0.9439\n",
            "57/57 [==============================] - 65s 1s/step - loss: 0.2386 - accuracy: 0.9438 - val_loss: 0.4216 - val_accuracy: 0.9439\n",
            "57/57 [==============================] - 65s 1s/step - loss: 0.2415 - accuracy: 0.9440 - val_loss: 0.4335 - val_accuracy: 0.9439\n",
            "57/57 [==============================] - 65s 1s/step - loss: 0.2218 - accuracy: 0.9442 - val_loss: 0.4472 - val_accuracy: 0.9438\n",
            "57/57 [==============================] - 66s 1s/step - loss: 0.2131 - accuracy: 0.9449 - val_loss: 0.4651 - val_accuracy: 0.9439\n",
            "57/57 [==============================] - 67s 1s/step - loss: 0.2023 - accuracy: 0.9463 - val_loss: 0.4809 - val_accuracy: 0.9440\n",
            "57/57 [==============================] - 66s 1s/step - loss: 0.1898 - accuracy: 0.9481 - val_loss: 0.4633 - val_accuracy: 0.9439\n",
            "57/57 [==============================] - 65s 1s/step - loss: 0.1568 - accuracy: 0.9471 - val_loss: 0.3969 - val_accuracy: 0.9436\n",
            "57/57 [==============================] - 65s 1s/step - loss: 0.1560 - accuracy: 0.9495 - val_loss: 0.3828 - val_accuracy: 0.9436\n",
            "57/57 [==============================] - 65s 1s/step - loss: 0.1498 - accuracy: 0.9497 - val_loss: 0.4235 - val_accuracy: 0.9436\n",
            "57/57 [==============================] - 66s 1s/step - loss: 0.1424 - accuracy: 0.9530 - val_loss: 0.4353 - val_accuracy: 0.9436\n",
            "57/57 [==============================] - 66s 1s/step - loss: 0.1397 - accuracy: 0.9527 - val_loss: 0.5155 - val_accuracy: 0.9440\n",
            "57/57 [==============================] - 66s 1s/step - loss: 0.1405 - accuracy: 0.9469 - val_loss: 0.4018 - val_accuracy: 0.9435\n",
            "57/57 [==============================] - 66s 1s/step - loss: 0.1312 - accuracy: 0.9513 - val_loss: 0.4357 - val_accuracy: 0.9432\n",
            "57/57 [==============================] - 65s 1s/step - loss: 0.1261 - accuracy: 0.9547 - val_loss: 0.4543 - val_accuracy: 0.9424\n",
            "57/57 [==============================] - 65s 1s/step - loss: 0.1244 - accuracy: 0.9560 - val_loss: 0.4195 - val_accuracy: 0.9367\n",
            "57/57 [==============================] - 66s 1s/step - loss: 0.1266 - accuracy: 0.9571 - val_loss: 0.4597 - val_accuracy: 0.9421\n"
          ]
        }
      ],
      "source": [
        "results = pd.DataFrame()\n",
        "model_bilstm_lstm = get_bilstm_lstm_model()\n",
        "plot_model(model_bilstm_lstm)\n",
        "results['with_add_lstm'] = train_model(train_tokens, np.array(train_tags), model_bilstm_lstm)"
      ]
    },
    {
      "cell_type": "code",
      "execution_count": 85,
      "metadata": {},
      "outputs": [
        {
          "data": {
            "text/plain": [
              "[<matplotlib.lines.Line2D at 0x7f5c7e321760>]"
            ]
          },
          "execution_count": 85,
          "metadata": {},
          "output_type": "execute_result"
        },
        {
          "data": {
            "image/png": "[encoded data removed]",
            "text/plain": [
              "<Figure size 640x480 with 1 Axes>"
            ]
          },
          "metadata": {},
          "output_type": "display_data"
        }
      ],
      "source": [
        "plt.plot(results['with_add_lstm'])"
      ]
    },
    {
      "cell_type": "markdown",
      "metadata": {},
      "source": [
        "## Results"
      ]
    },
    {
      "cell_type": "code",
      "execution_count": 78,
      "metadata": {},
      "outputs": [
        {
          "name": "stdout",
          "output_type": "stream",
          "text": [
            "Accuracy/Micro-f1/Micro-precision/Micro-recall: 0.9404\n"
          ]
        }
      ],
      "source": [
        "y_pred = model_bilstm_lstm.predict(test_tokens)\n",
        "\n",
        "y_pred = np.argmax(y_pred, axis=2)\n",
        "\n",
        "y_test = np.argmax(test_tags, axis=2)\n",
        "\n",
        "accuracy = (y_pred == y_test).mean() #change from true/false to numerical proportion\n",
        "\n",
        "print(\"Accuracy/Micro-f1/Micro-precision/Micro-recall: {:.4f}\".format(accuracy))"
      ]
    },
    {
      "cell_type": "code",
      "execution_count": 79,
      "metadata": {},
      "outputs": [],
      "source": [
        "def tag_conf_matrix(cm, tagid):\n",
        "    tag_name = idx2tag[tagid]\n",
        "    #print(\"Tag name: {}\".format(tag_name))\n",
        "    #print(cm[tagid])\n",
        "    tn, fp, fn, tp = cm[tagid].ravel()\n",
        "    tag_acc = (tp + tn) / (tn + fp + fn + tp)\n",
        "    tag_pre = tp / (tp + fp)\n",
        "    tag_rec = tp / (tp + fn)\n",
        "    tag_f1 = 2*(tag_pre * tag_rec)/(tag_pre + tag_rec)\n",
        "    #print(\"Tag accuracy: {:.3f} \\n\".format(tag_acc))\n",
        "    #print(\"Tag precision: {:.3f} \\n\".format(tag_pre))\n",
        "    #print(\"Tag recall: {:.3f} \\n\".format(tag_rec))\n",
        "    #print(\"Tag f1: {:.3f} \\n\".format(tag_f1))\n",
        "\n",
        "    return tag_acc, tag_pre, tag_rec, tag_f1\n"
      ]
    },
    {
      "cell_type": "code",
      "execution_count": 80,
      "metadata": {},
      "outputs": [
        {
          "data": {
            "text/plain": [
              "{0: 'B-PER',\n",
              " 1: 'B-LOC',\n",
              " 2: 'B-TIME',\n",
              " 3: 'B-MISC',\n",
              " 4: 'I-LOC',\n",
              " 5: 'I-MISC',\n",
              " 6: 'I-ORG',\n",
              " 7: 'B-NUM',\n",
              " 8: 'I-TIME',\n",
              " 9: 'I-NUM',\n",
              " 10: 'I-PER',\n",
              " 11: 'B-ORG',\n",
              " 12: 'O'}"
            ]
          },
          "execution_count": 80,
          "metadata": {},
          "output_type": "execute_result"
        }
      ],
      "source": [
        "idx2tag"
      ]
    },
    {
      "cell_type": "code",
      "execution_count": 83,
      "metadata": {},
      "outputs": [],
      "source": [
        "def macro_f1(cm):\n",
        "    f1_list = []\n",
        "    for i in range(0, 11): #for every class\n",
        "        _, _, _, tag_f1 = tag_conf_matrix(cm, i)\n",
        "        f1_list.append(tag_f1)\n",
        "    score = np.nanmean(f1_list)\n",
        "    return score"
      ]
    },
    {
      "cell_type": "code",
      "execution_count": 84,
      "metadata": {},
      "outputs": [
        {
          "name": "stderr",
          "output_type": "stream",
          "text": [
            "/tmp/ipykernel_6612/1659057365.py:7: RuntimeWarning: invalid value encountered in long_scalars\n",
            "  tag_pre = tp / (tp + fp)\n"
          ]
        },
        {
          "data": {
            "text/plain": [
              "0.22539630389930193"
            ]
          },
          "execution_count": 84,
          "metadata": {},
          "output_type": "execute_result"
        }
      ],
      "source": [
        "cm = multilabel_confusion_matrix(y_test.flatten(), y_pred.flatten())\n",
        "macro_f1(cm)"
      ]
    }
  ],
  "metadata": {
    "colab": {
      "provenance": [],
      "toc_visible": true
    },
    "interpreter": {
      "hash": "a6a6a43afd82b9c8d81670bbd4cadbd88e22e52abfa29754676dca3e7b854911"
    },
    "kernelspec": {
      "display_name": "Python 3.8.12 64-bit ('3.8.12')",
      "language": "python",
      "name": "python3"
    },
    "language_info": {
      "codemirror_mode": {
        "name": "ipython",
        "version": 3
      },
      "file_extension": ".py",
      "mimetype": "text/x-python",
      "name": "python",
      "nbconvert_exporter": "python",
      "pygments_lexer": "ipython3",
      "version": "3.8.12"
    }
  },
  "nbformat": 4,
  "nbformat_minor": 0
}
